{
 "cells": [
  {
   "cell_type": "code",
   "execution_count": 1,
   "metadata": {},
   "outputs": [],
   "source": [
    "import pandas as pd\n",
    "import numpy as np\n",
    "import matplotlib.pyplot as plt\n",
    "import seaborn as sns\n",
    "import os\n",
    "import glob\n",
    "from keras.preprocessing import image\n",
    "from keras.models import Sequential\n",
    "from keras.layers import Conv2D, MaxPooling2D,AveragePooling2D, Flatten, Dense, Dropout, Activation , Concatenate, Input , BatchNormalization\n",
    "from keras.preprocessing.image import ImageDataGenerator ,img_to_array, load_img\n",
    "from tensorflow.keras.callbacks import EarlyStopping\n",
    "from keras.optimizers import SGD\n",
    "from keras.utils import plot_model\n",
    "from keras import Model\n",
    "from sklearn.metrics import confusion_matrix"
   ]
  },
  {
   "cell_type": "code",
   "execution_count": null,
   "metadata": {},
   "outputs": [],
   "source": [
    "###########Change name for _gen"
   ]
  },
  {
   "cell_type": "code",
   "execution_count": 2,
   "metadata": {},
   "outputs": [
    {
     "data": {
      "text/plain": [
       "[PhysicalDevice(name='/physical_device:GPU:0', device_type='GPU')]"
      ]
     },
     "execution_count": 2,
     "metadata": {},
     "output_type": "execute_result"
    }
   ],
   "source": [
    "# import tensorflow as tf\n",
    "# tf.config.list_physical_devices('GPU')"
   ]
  },
  {
   "cell_type": "code",
   "execution_count": 3,
   "metadata": {},
   "outputs": [],
   "source": [
    "train_dir = r'E:\\Data Science\\Projects\\DL\\Gender Classification\\data\\Training'\n",
    "test_dir = r'E:\\Data Science\\Projects\\DL\\Gender Classification\\data\\Testing'\n",
    "\n",
    "train_dir_male = train_dir + '/male'\n",
    "train_dir_female = train_dir + '/female'\n",
    "\n",
    "test_dir_male  = test_dir + '/male'\n",
    "test_dir_female  = test_dir + '/female'"
   ]
  },
  {
   "cell_type": "code",
   "execution_count": 4,
   "metadata": {},
   "outputs": [
    {
     "name": "stdout",
     "output_type": "stream",
     "text": [
      "number of male training images -  23764\n",
      "number of female training images -  23243\n",
      "----------------------------------------------------------------------\n",
      "number of male testing  images -  5751\n",
      "number of female testing  images -  5841\n"
     ]
    }
   ],
   "source": [
    "print('number of male training images - ', len(os.listdir(train_dir_male)))\n",
    "print('number of female training images - ', len(os.listdir(train_dir_female)))\n",
    "print('----------------------------------------------------------------------')\n",
    "print('number of male testing  images - ', len(os.listdir(test_dir_male)))\n",
    "print('number of female testing  images - ', len(os.listdir(test_dir_female)))"
   ]
  },
  {
   "cell_type": "code",
   "execution_count": 5,
   "metadata": {},
   "outputs": [],
   "source": [
    "data_generator = ImageDataGenerator(rescale = 1./255 , validation_split = 0.2)"
   ]
  },
  {
   "cell_type": "code",
   "execution_count": 6,
   "metadata": {},
   "outputs": [
    {
     "name": "stdout",
     "output_type": "stream",
     "text": [
      "Found 37607 images belonging to 2 classes.\n",
      "Found 9400 images belonging to 2 classes.\n",
      "Found 11592 images belonging to 2 classes.\n",
      "Found 11592 images belonging to 2 classes.\n"
     ]
    }
   ],
   "source": [
    "batch_size = 64\n",
    "\n",
    "training_data_gen = data_generator.flow_from_directory(directory = train_dir,\n",
    "                                                   target_size = (64, 64),\n",
    "                                                   class_mode ='binary',\n",
    "                                                   color_mode = \"rgb\",\n",
    "                                                   subset = 'training',\n",
    "                                                   batch_size = batch_size,\n",
    "                                                   shuffle=True)\n",
    "\n",
    "validation_data_gen = data_generator.flow_from_directory(directory = train_dir,\n",
    "                                                  target_size = (64, 64),\n",
    "                                                  class_mode = 'binary',\n",
    "                                                  color_mode = \"rgb\",\n",
    "                                                  subset = 'validation',\n",
    "                                                  batch_size = batch_size)\n",
    "\n",
    "test_data_gen = data_generator.flow_from_directory(directory = test_dir,\n",
    "                                                  target_size = (64, 64),\n",
    "                                                  class_mode = None,\n",
    "                                                  color_mode = \"rgb\",\n",
    "                                                  batch_size = batch_size)\n",
    "\n",
    "\n",
    "evaluation_generator_gen = data_generator.flow_from_directory(directory = test_dir,\n",
    "                                                  target_size = (64, 64),\n",
    "                                                  class_mode = 'binary',\n",
    "                                                  color_mode = \"rgb\",  \n",
    "                                                  batch_size = batch_size)"
   ]
  },
  {
   "cell_type": "code",
   "execution_count": 8,
   "metadata": {},
   "outputs": [
    {
     "data": {
      "text/plain": [
       "{0, 1}"
      ]
     },
     "execution_count": 8,
     "metadata": {},
     "output_type": "execute_result"
    }
   ],
   "source": [
    "set(training_data_gen.classes)"
   ]
  },
  {
   "cell_type": "code",
   "execution_count": 9,
   "metadata": {},
   "outputs": [
    {
     "name": "stdout",
     "output_type": "stream",
     "text": [
      "{'female': 0, 'male': 1}\n"
     ]
    }
   ],
   "source": [
    "labels = (test_data_gen.class_indices)\n",
    "print (labels)"
   ]
  },
  {
   "cell_type": "code",
   "execution_count": null,
   "metadata": {},
   "outputs": [],
   "source": [
    "# es = EarlyStopping(monitor = 'val_loss', mode = 'auto', verbose = 2, patience = 8)"
   ]
  },
  {
   "cell_type": "code",
   "execution_count": null,
   "metadata": {},
   "outputs": [],
   "source": [
    "# input_model = Input(training_data.image_shape)\n",
    "\n",
    "\n",
    "# model1 = Conv2D(16,(7,7), activation='relu')(input_model)\n",
    "# model1 = Conv2D(32,(6,6), activation='relu', padding='same')(model1)\n",
    "# model1 = BatchNormalization()(model1)\n",
    "# model1 = MaxPooling2D((2,2))(model1)\n",
    "# model1 = Conv2D(32,(6,6), activation='relu' ,padding='same')(model1)\n",
    "# model1 = Conv2D(64,(5,5), activation='relu' ,padding='same')(model1)\n",
    "# model1 = BatchNormalization()(model1)\n",
    "# model1 = AveragePooling2D((2, 2))(model1)\n",
    "# model1 = Conv2D(64,(5,5), activation='relu' ,padding='same')(model1)\n",
    "# model1 = Conv2D(128,(5,5), activation='relu' ,padding='same')(model1)\n",
    "# model1 = BatchNormalization()(model1)\n",
    "# model1 = AveragePooling2D((2, 2))(model1)\n",
    "# model1 = Conv2D(256,(4,4), activation='relu' ,padding='same')(model1)\n",
    "# model1 = Conv2D(256,(4,4), activation='relu' ,padding='same')(model1)\n",
    "# model1 = BatchNormalization()(model1)\n",
    "# model1 = MaxPooling2D((2, 2))(model1)\n",
    "# model1 = Conv2D(512,(3,3), activation='relu' ,padding='same')(model1)\n",
    "# model1 = Conv2D(512,(3,3), activation='relu' ,padding='valid')(model1)\n",
    "# model1 = BatchNormalization()(model1)\n",
    "# model1 = Flatten()(model1)\n",
    "# #########################################################                          \n",
    "# model2 = Conv2D(16,(4,4), activation='relu')(input_model)  \n",
    "# model2 = Conv2D(16,(4,4), activation='relu', padding='same')(model2)\n",
    "# model2 = BatchNormalization()(model2)\n",
    "# model2 = MaxPooling2D((3, 3))(model2)\n",
    "# model2 = Conv2D(32,(3,3), activation='relu', padding='same')(model2) \n",
    "# model2 = Conv2D(32,(3,3), activation='relu', padding='same')(model2)\n",
    "# model2 = BatchNormalization()(model2)\n",
    "# model2 = AveragePooling2D((2, 2))(model2)\n",
    "# model2 = Conv2D(32,(3,3), activation='relu', padding='same')(model2)\n",
    "# model2 = Conv2D(64,(2,2), activation='relu' ,padding='same')(model2)\n",
    "# model2 = BatchNormalization()(model2)\n",
    "# model2 = AveragePooling2D((2, 2))(model2)\n",
    "# model2 = Conv2D(64,(2,2), activation='relu' ,padding='same')(model2)\n",
    "# model2 = Conv2D(64,(2,2), activation='relu' ,padding='same')(model2)\n",
    "# model2 = BatchNormalization()(model2)\n",
    "# model2 = AveragePooling2D((2, 2))(model2)\n",
    "# model2 = Conv2D(128,(1,1), activation='relu' ,padding='same')(model2)\n",
    "# model2 = Conv2D(128,(1,1), activation='relu' ,padding='same')(model2)\n",
    "# model2 = BatchNormalization()(model2)\n",
    "# model2 = AveragePooling2D((2, 2))(model2)\n",
    "# model2 = Conv2D(256,(1,1), activation='relu' ,padding='same')(model2)\n",
    "# model2 = Conv2D(512,(1,1), activation='relu' ,padding='valid')(model2)\n",
    "# model2 = BatchNormalization()(model2)\n",
    "# model2 = Flatten()(model2)\n",
    "# ########################################################\n",
    "# merged = Concatenate()([model1, model2])\n",
    "# merged = Dense(units = 512, activation = 'relu')(merged)\n",
    "# merged = BatchNormalization()(merged)\n",
    "# merged = Dropout(rate = 0.2)(merged)\n",
    "# merged = Dense(units = 64, activation = 'relu')(merged)\n",
    "# merged = Dense(units = 32, activation = 'relu')(merged)\n",
    "# merged = Dense(units = 16, activation = 'relu')(merged)\n",
    "# merged = Dense(units = 8, activation = 'relu')(merged)\n",
    "# merged = Dense(units = 4, activation = 'relu')(merged)\n",
    "# merged = Dense(units = 2, activation = 'relu')(merged)\n",
    "# output = Dense(activation = 'sigmoid', units = 1)(merged)\n",
    "\n",
    "# model = Model(inputs = [input_model], outputs=[output])"
   ]
  },
  {
   "cell_type": "code",
   "execution_count": null,
   "metadata": {},
   "outputs": [],
   "source": [
    "# sgd = SGD(lr = 0.01, momentum = 0.9)\n",
    "# model.compile(optimizer = sgd, loss = 'binary_crossentropy', metrics = ['accuracy'])"
   ]
  },
  {
   "cell_type": "code",
   "execution_count": null,
   "metadata": {},
   "outputs": [],
   "source": [
    "# model.summary()"
   ]
  },
  {
   "cell_type": "code",
   "execution_count": null,
   "metadata": {},
   "outputs": [],
   "source": [
    "# history =  model.fit_generator(generator = training_data_gen,\n",
    "#                                epochs = 5,\n",
    "#                                steps_per_epoch = int(len(training_data_gen)/batch_size),\n",
    "#                                validation_data = validation_data_gen,\n",
    "#                                validation_steps = int(len(validation_data_gen)/batch_size),\n",
    "#                                callbacks=[es],\n",
    "#                                verbose=1)"
   ]
  },
  {
   "cell_type": "code",
   "execution_count": null,
   "metadata": {},
   "outputs": [],
   "source": [
    "# model.save_weights(\"weights.h5\")"
   ]
  },
  {
   "cell_type": "code",
   "execution_count": null,
   "metadata": {},
   "outputs": [],
   "source": [
    "# val_loss = history.history['val_loss']\n",
    "# loss = history.history['loss']\n",
    "\n",
    "# plt.plot(val_loss)\n",
    "# plt.plot(loss)\n",
    "# plt.xlabel('Epochs')\n",
    "# plt.ylabel('Loss')\n",
    "# plt.legend(['Val error','Train error'], loc='upper right')\n",
    "# plt.savefig('plot_error.png')\n",
    "# plt.show()"
   ]
  },
  {
   "cell_type": "code",
   "execution_count": null,
   "metadata": {},
   "outputs": [],
   "source": [
    "# val_accuracy = history.history['val_accuracy']\n",
    "# accuracy = history.history['accuracy']\n",
    "\n",
    "# plt.plot(val_accuracy)\n",
    "# plt.plot(accuracy)\n",
    "# plt.xlabel('Epochs')\n",
    "# plt.ylabel('accuracy')\n",
    "# plt.legend(['Val accuracy','Train accuracy'], loc='lower right')\n",
    "# plt.savefig( 'plot_accuracy.png')\n",
    "# plt.show()"
   ]
  },
  {
   "cell_type": "code",
   "execution_count": null,
   "metadata": {},
   "outputs": [],
   "source": [
    "# #evaluate the model\n",
    "\n",
    "# ####Change evaluate_generator to evaluate\n",
    "# scores = model.evaluate_generator(evaluation_generator)\n",
    "# print(\"\\n%s: %.2f%%\" % (model.metrics_names[1], scores[1]*100))"
   ]
  },
  {
   "cell_type": "code",
   "execution_count": null,
   "metadata": {},
   "outputs": [],
   "source": [
    "# pred = model.predict(test_data)\n",
    "# print(pred.shape)"
   ]
  },
  {
   "cell_type": "code",
   "execution_count": null,
   "metadata": {},
   "outputs": [],
   "source": [
    "# pred = pred.reshape(1,pred.shape[0])\n",
    "# predicted_class_indices= np.round_(pred)\n",
    "# labels = (validation_data.class_indices)\n",
    "# print(predicted_class_indices)\n",
    "# print (labels)"
   ]
  },
  {
   "cell_type": "code",
   "execution_count": null,
   "metadata": {},
   "outputs": [],
   "source": [
    "# true_labels = []\n",
    "# perdict_labels = predicted_class_indices[0]\n",
    "\n",
    "# for i in range(len(glob.glob(val_dir_female +'/*'))):\n",
    "#     true_labels.append(0)\n",
    "# for i in range(len(glob.glob(val_dir_male +'/*'))):\n",
    "#     true_labels.append(1)"
   ]
  },
  {
   "cell_type": "code",
   "execution_count": null,
   "metadata": {},
   "outputs": [],
   "source": [
    "# cm = confusion_matrix(true_labels, perdict_labels)\n",
    "# sns.heatmap(cm, fmt='4',annot=True).set(ylabel=\"True Label\", xlabel=\"Predicted Label\")\n",
    "# plt.show()\n",
    "# plt.savefig('confusion_matrix.jpg')"
   ]
  },
  {
   "cell_type": "code",
   "execution_count": null,
   "metadata": {},
   "outputs": [],
   "source": [
    "# sns.heatmap(cm/np.sum(cm), annot=True, \n",
    "#             fmt='.2%').set(ylabel=\"True Label\", xlabel=\"Predicted Label\")\n",
    "# plt.show()\n",
    "# plt.savefig('confusion_matrix_percentage.jpg')"
   ]
  },
  {
   "cell_type": "code",
   "execution_count": null,
   "metadata": {},
   "outputs": [],
   "source": [
    "# paths = glob.glob(val_dir_female +'/*')\n",
    "# for i in range(0,10):\n",
    "#     test_image = image.load_img(paths[i], target_size = (64, 64))\n",
    "#     plt.imshow(test_image)\n",
    "#     if predicted_class_indices[0][i] == 0:\n",
    "#         pred_label = 'female'\n",
    "#     else:\n",
    "#         pred_label = 'male'\n",
    "    \n",
    "#     print('True Label female - Perdict Label : {}'.format(pred_label))\n",
    "#     labels = (training_data.class_indices)\n",
    "#     print (labels)\n",
    "#     plt.show()"
   ]
  },
  {
   "cell_type": "code",
   "execution_count": null,
   "metadata": {},
   "outputs": [],
   "source": [
    "# paths = glob.glob(val_dir_male +'/*')\n",
    "# l = len(glob.glob(val_dir_female +'/*'))\n",
    "# for i in range(0,10):\n",
    "#     test_image = image.load_img(paths[i], target_size = (64, 64))\n",
    "#     plt.imshow(test_image)\n",
    "#     if predicted_class_indices[0][l+i] == 0:\n",
    "#         pred_label = 'female'\n",
    "#     else:\n",
    "#         pred_label = 'male'\n",
    "    \n",
    "#     print('True Label male - Perdict Label : {}'.format(pred_label))\n",
    "#     labels = (training_data.class_indices)\n",
    "#     print (labels)\n",
    "#     plt.show()"
   ]
  },
  {
   "cell_type": "code",
   "execution_count": 10,
   "metadata": {},
   "outputs": [],
   "source": [
    "model = Sequential()\n",
    "\n",
    "model.add(Conv2D(16, 3, padding='same', activation='relu', input_shape=(64, 64, 3)))\n",
    "model.add(MaxPooling2D(pool_size=(2, 2)))\n",
    "\n",
    "model.add(Conv2D(32, 3, padding='same', activation='relu'))\n",
    "model.add(MaxPooling2D(pool_size=(2, 2)))\n",
    "\n",
    "model.add(Conv2D(64, 3, padding='same', activation='relu'))\n",
    "model.add(MaxPooling2D(pool_size=(2, 2)))\n",
    "\n",
    "model.add(Flatten())\n",
    "model.add(Dropout(0.2))\n",
    "model.add(Dense(512, activation='relu'))\n",
    "\n",
    "model.add(Dropout(0.2))\n",
    "model.add(Dense(5))"
   ]
  },
  {
   "cell_type": "code",
   "execution_count": 11,
   "metadata": {},
   "outputs": [],
   "source": [
    "model.compile(optimizer='adam',\n",
    "              loss=tf.keras.losses.SparseCategoricalCrossentropy(from_logits=True),\n",
    "              metrics=['accuracy'])"
   ]
  },
  {
   "cell_type": "code",
   "execution_count": 13,
   "metadata": {},
   "outputs": [
    {
     "name": "stdout",
     "output_type": "stream",
     "text": [
      "WARNING:tensorflow:From <ipython-input-13-bac2e893e455>:3: Model.fit_generator (from tensorflow.python.keras.engine.training) is deprecated and will be removed in a future version.\n",
      "Instructions for updating:\n",
      "Please use Model.fit, which supports generators.\n",
      "Epoch 1/10\n",
      "9/9 [==============================] - 33s 4s/step - loss: 0.8346 - accuracy: 0.4965 - val_loss: 0.6488 - val_accuracy: 0.6484\n",
      "Epoch 2/10\n",
      "9/9 [==============================] - 34s 4s/step - loss: 0.6390 - accuracy: 0.6458 - val_loss: 0.5802 - val_accuracy: 0.7422\n",
      "Epoch 3/10\n",
      "9/9 [==============================] - 31s 3s/step - loss: 0.5890 - accuracy: 0.6962 - val_loss: 0.5752 - val_accuracy: 0.6484\n",
      "Epoch 4/10\n",
      "9/9 [==============================] - 30s 3s/step - loss: 0.5038 - accuracy: 0.7604 - val_loss: 0.5185 - val_accuracy: 0.7500\n",
      "Epoch 5/10\n",
      "9/9 [==============================] - 28s 3s/step - loss: 0.5413 - accuracy: 0.7431 - val_loss: 0.5094 - val_accuracy: 0.7969\n",
      "Epoch 6/10\n",
      "9/9 [==============================] - 27s 3s/step - loss: 0.4667 - accuracy: 0.7830 - val_loss: 0.4430 - val_accuracy: 0.7969\n",
      "Epoch 7/10\n",
      "9/9 [==============================] - 25s 3s/step - loss: 0.4487 - accuracy: 0.8142 - val_loss: 0.4663 - val_accuracy: 0.7969\n",
      "Epoch 8/10\n",
      "9/9 [==============================] - 24s 3s/step - loss: 0.4333 - accuracy: 0.8038 - val_loss: 0.4379 - val_accuracy: 0.8125\n",
      "Epoch 9/10\n",
      "9/9 [==============================] - 29s 3s/step - loss: 0.4122 - accuracy: 0.8125 - val_loss: 0.3715 - val_accuracy: 0.8281\n",
      "Epoch 10/10\n",
      "9/9 [==============================] - 25s 3s/step - loss: 0.3501 - accuracy: 0.8542 - val_loss: 0.2836 - val_accuracy: 0.9141\n"
     ]
    }
   ],
   "source": [
    "epochs = 10\n",
    "\n",
    "history = model.fit_generator(\n",
    "    training_data_gen,\n",
    "    steps_per_epoch = int(len(training_data_gen)/batch_size),\n",
    "    epochs=epochs,\n",
    "    validation_data=validation_data_gen,\n",
    "    validation_steps = int(len(validation_data_gen)/batch_size)\n",
    ")"
   ]
  },
  {
   "cell_type": "code",
   "execution_count": 14,
   "metadata": {},
   "outputs": [
    {
     "data": {
      "image/png": "[encoded data removed]",
      "text/plain": [
       "<Figure size 576x576 with 2 Axes>"
      ]
     },
     "metadata": {
      "needs_background": "light"
     },
     "output_type": "display_data"
    }
   ],
   "source": [
    "acc = history.history['accuracy']\n",
    "val_acc = history.history['val_accuracy']\n",
    "\n",
    "loss = history.history['loss']\n",
    "val_loss = history.history['val_loss']\n",
    "\n",
    "epochs_range = range(epochs)\n",
    "\n",
    "plt.figure(figsize=(8, 8))\n",
    "plt.subplot(1, 2, 1)\n",
    "plt.plot(epochs_range, acc, label='Training Accuracy')\n",
    "plt.plot(epochs_range, val_acc, label='Validation Accuracy')\n",
    "plt.legend(loc='lower right')\n",
    "plt.title('Training and Validation Accuracy')\n",
    "\n",
    "plt.subplot(1, 2, 2)\n",
    "plt.plot(epochs_range, loss, label='Training Loss')\n",
    "plt.plot(epochs_range, val_loss, label='Validation Loss')\n",
    "plt.legend(loc='upper right')\n",
    "plt.title('Training and Validation Loss')\n",
    "plt.show()"
   ]
  },
  {
   "cell_type": "code",
   "execution_count": 15,
   "metadata": {},
   "outputs": [
    {
     "name": "stdout",
     "output_type": "stream",
     "text": [
      "WARNING:tensorflow:From <ipython-input-15-79b3b734c8ec>:4: Model.evaluate_generator (from tensorflow.python.keras.engine.training) is deprecated and will be removed in a future version.\n",
      "Instructions for updating:\n",
      "Please use Model.evaluate, which supports generators.\n",
      "\n",
      "accuracy: 86.44%\n"
     ]
    }
   ],
   "source": [
    "#evaluate the model\n",
    "\n",
    "\n",
    "scores = model.evaluate_generator(evaluation_generator_gen)\n",
    "print(\"\\n%s: %.2f%%\" % (model.metrics_names[1], scores[1]*100))"
   ]
  },
  {
   "cell_type": "code",
   "execution_count": null,
   "metadata": {},
   "outputs": [],
   "source": []
  }
 ],
 "metadata": {
  "kernelspec": {
   "display_name": "gputf",
   "language": "python",
   "name": "gputf"
  },
  "language_info": {
   "codemirror_mode": {
    "name": "ipython",
    "version": 3
   },
   "file_extension": ".py",
   "mimetype": "text/x-python",
   "name": "python",
   "nbconvert_exporter": "python",
   "pygments_lexer": "ipython3",
   "version": "3.8.3"
  }
 },
 "nbformat": 4,
 "nbformat_minor": 4
}
